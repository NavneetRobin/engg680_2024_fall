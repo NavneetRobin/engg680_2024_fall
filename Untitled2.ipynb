{
  "nbformat": 4,
  "nbformat_minor": 0,
  "metadata": {
    "colab": {
      "provenance": [],
      "include_colab_link": true
    },
    "kernelspec": {
      "name": "python3",
      "display_name": "Python 3"
    },
    "language_info": {
      "name": "python"
    }
  },
  "cells": [
    {
      "cell_type": "markdown",
      "metadata": {
        "id": "view-in-github",
        "colab_type": "text"
      },
      "source": [
        "<a href=\"https://colab.research.google.com/github/NavneetRobin/engg680_2024_fall/blob/main/Untitled2.ipynb\" target=\"_parent\"><img src=\"https://colab.research.google.com/assets/colab-badge.svg\" alt=\"Open In Colab\"/></a>"
      ]
    },
    {
      "cell_type": "code",
      "source": [
        "birth_year = input('birth_year ')\n",
        "age = 2024 - int(birth_year)\n",
        "print(age)\n"
      ],
      "metadata": {
        "colab": {
          "base_uri": "https://localhost:8080/"
        },
        "id": "uJtQfYN2N5Ib",
        "outputId": "29769d56-a382-4421-e3d3-4deeabb2e232"
      },
      "execution_count": 1,
      "outputs": [
        {
          "output_type": "stream",
          "name": "stdout",
          "text": [
            "birth_year 1996\n",
            "28\n"
          ]
        }
      ]
    },
    {
      "cell_type": "code",
      "source": [
        "weight_lb = input('weight_lb ')\n",
        "weight_kg = int(weight_lb) * 0.45\n",
        "print(weight_kg)\n"
      ],
      "metadata": {
        "id": "pt72S2KKO3j8"
      },
      "execution_count": null,
      "outputs": []
    },
    {
      "cell_type": "code",
      "source": [
        "string = ('Hello World')\n",
        "modified_string = \"J\" + string [1:0]\n",
        "print = (\"modified_string\" )"
      ],
      "metadata": {
        "id": "lA9Z9RUxfWoq"
      },
      "execution_count": null,
      "outputs": []
    },
    {
      "cell_type": "code",
      "source": [
        "string = ('Hello World')\n",
        "modified_string = \"J\" + string [1:0]\n",
        "print = (\"modified_string\" )"
      ],
      "metadata": {
        "id": "q-4Y0zHegxF7"
      },
      "execution_count": null,
      "outputs": []
    }
  ]
}