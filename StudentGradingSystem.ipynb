{
  "cells": [
    {
      "cell_type": "markdown",
      "metadata": {
        "id": "view-in-github",
        "colab_type": "text"
      },
      "source": [
        "<a href=\"https://colab.research.google.com/github/NavneetRobin/engg680_2024_fall/blob/main/StudentGradingSystem.ipynb\" target=\"_parent\"><img src=\"https://colab.research.google.com/assets/colab-badge.svg\" alt=\"Open In Colab\"/></a>"
      ]
    },
    {
      "cell_type": "markdown",
      "id": "HWXrzcz_y4W4",
      "metadata": {
        "id": "HWXrzcz_y4W4"
      },
      "source": [
        "# **ENGG680 - Introduction to Digital Engineering**\n",
        "## *Lab Assignment 1: Using Git and Python for Collaborative Coding in Google Colab*"
      ]
    },
    {
      "cell_type": "markdown",
      "id": "4fab98ae-2ed4-4d63-92bf-1de5dbb19934",
      "metadata": {
        "id": "4fab98ae-2ed4-4d63-92bf-1de5dbb19934"
      },
      "source": [
        "## Preliminary: Certificate of Work\n",
        "### (5 Marks)"
      ]
    },
    {
      "cell_type": "markdown",
      "id": "8f496d8e-869b-4d21-aa88-60d8ae45ba61",
      "metadata": {
        "id": "8f496d8e-869b-4d21-aa88-60d8ae45ba61"
      },
      "source": [
        "*We, the undersigned, certify that this is our own work, which has been done expressly for this course, either without the assistance of any other party or where appropriate we have acknowledged the work of others. Further, we have read and understood the section in the university calendar on plagiarism/cheating/other academic misconduct and we are aware of the implications thereof. We request that the total mark for this assignment be distributed as follows among group members:*"
      ]
    },
    {
      "cell_type": "markdown",
      "id": "5d9b6a22-cf19-4a2b-8b01-8a2a2a0f1f1f",
      "metadata": {
        "id": "5d9b6a22-cf19-4a2b-8b01-8a2a2a0f1f1f"
      },
      "source": [
        "|          | First Name | Last Name | Signature (Full Name, Date) | Hours | Contribution % |\n",
        "|----------|------------|-----------|-----------------------------|-------|----------------|\n",
        "| Member 1: | Jalelle | Dinka | Signature | Hours | Contribution |\n",
        "| Member 2: | Navneet | Robin | Signature | Hours | Contribution |\n",
        "| Member 3: | Leanne| Lane | Signature | Hours | Contribution |\n",
        "| Member 4: | First Name | Last Name | Signature | Hours | Contribution |\n"
      ]
    },
    {
      "cell_type": "markdown",
      "id": "f1aa1475-009f-4697-b37a-e46286e2b792",
      "metadata": {
        "id": "f1aa1475-009f-4697-b37a-e46286e2b792"
      },
      "source": [
        "## Part 1: Printing to the Console\n",
        "### (6 Marks)"
      ]
    },
    {
      "cell_type": "code",
      "execution_count": null,
      "id": "78e4aa0e-2a7d-44cc-9f8b-b3593c1e8176",
      "metadata": {
        "id": "78e4aa0e-2a7d-44cc-9f8b-b3593c1e8176",
        "colab": {
          "base_uri": "https://localhost:8080/"
        },
        "outputId": "3ddb526b-24c3-4356-a054-fff0cc35ff5d"
      },
      "outputs": [
        {
          "output_type": "stream",
          "name": "stdout",
          "text": [
            "Hello, World! welcome to the Student Gradebook Management System.\n"
          ]
        }
      ],
      "source": [
        "# In the space below, please print \"Hello, World! Welcome to the Student Gradebook Management System.\"\n",
        "# (1 mark)\n",
        "print(\"Hello, World! welcome to the Student Gradebook Management System.\")"
      ]
    },
    {
      "cell_type": "code",
      "execution_count": null,
      "id": "l3Venmnzsq2m",
      "metadata": {
        "id": "l3Venmnzsq2m",
        "colab": {
          "base_uri": "https://localhost:8080/"
        },
        "outputId": "067cf299-164f-47ae-d0d1-c3d6aa1dbee1"
      },
      "outputs": [
        {
          "output_type": "stream",
          "name": "stdout",
          "text": [
            "lab_group_number = L20\n",
            "intake_year = 2024\n",
            "intake_semester = fall\n",
            "This is implemented by Group L20, for ENGG680 fall of 2024\n"
          ]
        }
      ],
      "source": [
        "# Fill in your information using the defined variables below:\n",
        "# (1 mark)\n",
        "lab_group_number =\"L20\"\n",
        "print(\"lab_group_number =\", lab_group_number)\n",
        "intake_year =\"2024\"\n",
        "print(\"intake_year =\", intake_year)\n",
        "intake_semester = \"fall\"\n",
        "print(\"intake_semester =\", intake_semester)\n",
        "\n",
        "# Using f-strings and the variables above, print \"This is implemented by Group <lab_group_number>, for ENGG680 <intake_semester> of <intake_year>\"\n",
        "# (2 marks)\n",
        "print(f\"This is implemented by Group {lab_group_number}, for ENGG680 {intake_semester} of {intake_year}\")\n"
      ]
    },
    {
      "cell_type": "code",
      "execution_count": null,
      "id": "mTPZ16XEtnHV",
      "metadata": {
        "id": "mTPZ16XEtnHV",
        "colab": {
          "base_uri": "https://localhost:8080/"
        },
        "outputId": "6dcd3a5d-7cd4-42fa-b3cc-198fc65d5049"
      },
      "outputs": [
        {
          "output_type": "stream",
          "name": "stdout",
          "text": [
            "The subjects involved in this grading system are English and Math.\n"
          ]
        }
      ],
      "source": [
        "# Use indexing to print \"The subjects involved in this grading system is English and Math.\" using \"subjects\" below.\n",
        "# (2 marks)\n",
        "subjects = (\"English\", \"Math\")\n",
        "print(f\"The subjects involved in this grading system are {subjects[0]} and {subjects[1]}.\")\n"
      ]
    },
    {
      "cell_type": "markdown",
      "id": "b45a5575-8e77-4bba-8311-69f997affc35",
      "metadata": {
        "id": "b45a5575-8e77-4bba-8311-69f997affc35"
      },
      "source": [
        "## Part 2: Using Pandas for Data Management and Analytics\n",
        "### (20 marks)"
      ]
    },
    {
      "cell_type": "code",
      "execution_count": null,
      "id": "6dbaa42e-22e3-4aa6-9bd3-dd9ede274c17",
      "metadata": {
        "id": "6dbaa42e-22e3-4aa6-9bd3-dd9ede274c17"
      },
      "outputs": [],
      "source": [
        "# In the space below, please import the Pandas library\n",
        "# (1 mark)\n",
        "import pandas as pd"
      ]
    },
    {
      "cell_type": "code",
      "source": [
        "from google.colab import drive\n",
        "drive.mount('/content/drive')"
      ],
      "metadata": {
        "colab": {
          "base_uri": "https://localhost:8080/"
        },
        "id": "CaxoJUJIeqJ8",
        "outputId": "ca46d9cd-be3c-4e58-b71e-2055ee1a6e12"
      },
      "id": "CaxoJUJIeqJ8",
      "execution_count": null,
      "outputs": [
        {
          "output_type": "stream",
          "name": "stdout",
          "text": [
            "Drive already mounted at /content/drive; to attempt to forcibly remount, call drive.mount(\"/content/drive\", force_remount=True).\n"
          ]
        }
      ]
    },
    {
      "cell_type": "code",
      "execution_count": null,
      "metadata": {
        "id": "cce8e74f-bba1-4bf4-baaf-13e23cdf4afc",
        "colab": {
          "base_uri": "https://localhost:8080/"
        },
        "outputId": "e1702689-bcc4-4aba-97ce-b94a6e046c69"
      },
      "outputs": [
        {
          "output_type": "stream",
          "name": "stdout",
          "text": [
            "   firstName  lastName  studentID  grade\n",
            "0       Emma     Smith      10959     95\n",
            "1     Sophia  Robinson      75175     88\n",
            "2       Emma    Taylor      42257     87\n",
            "3      David  Robinson      55148     86\n",
            "4    Stephen     Curry      30303     90\n",
            "5   Isabella  Thompson      72824     88\n",
            "6    Jasmine     Smith      70385     84\n",
            "7      James     Jones      87707     76\n",
            "8      Sarah     Swift      61026     80\n",
            "9       Anne     Clark      90449     82\n",
            "10      Ryan    Thomas      62137     92\n",
            "11    Daniel     White      25477     91\n",
            "12      Sara       Doe      47991     98\n",
            "13   Matthew     White      25376     80\n",
            "   firstName  lastName  studentID  grade\n",
            "0      James     Jones      87707     92\n",
            "1      Sarah     Swift      61026     98\n",
            "2       Anne     Clark      90449     99\n",
            "3       Ryan    Thomas      62137     89\n",
            "4     Daniel     White      25477     87\n",
            "5       Sara       Doe      47991     86\n",
            "6    Matthew     White      25376     85\n",
            "7       Emma     Smith      10959     90\n",
            "8     Sophia  Robinson      75175     95\n",
            "9       Emma    Taylor      42257     85\n",
            "10     David  Robinson      55148     87\n",
            "11   Stephen     Curry      30303     88\n",
            "12  Isabella  Thompson      72824     79\n",
            "13   Jasmine     Smith      70385     80\n"
          ]
        }
      ],
      "source": [
        "# Load the student grade CSV files into DataFrames using the defined variables\n",
        "# (2 marks)\n",
        "df_english =pd.read_csv(\"/content/drive/MyDrive/engg680_2024_fall/Lab_assignment/studentGrades_English.csv\")\n",
        "print(df_english.head(15))\n",
        "df_math =pd.read_csv(\"/content/drive/MyDrive/engg680_2024_fall/Lab_assignment/studentGrades_Math.csv\")\n",
        "print(df_math.head(15))"
      ],
      "id": "cce8e74f-bba1-4bf4-baaf-13e23cdf4afc"
    },
    {
      "cell_type": "code",
      "execution_count": null,
      "id": "8fb240f4-6358-4f61-ab12-f0134c0144a8",
      "metadata": {
        "id": "8fb240f4-6358-4f61-ab12-f0134c0144a8",
        "colab": {
          "base_uri": "https://localhost:8080/"
        },
        "outputId": "f06c40ce-ccbd-424a-cfd0-d7e06f39ec47"
      },
      "outputs": [
        {
          "output_type": "stream",
          "name": "stdout",
          "text": [
            "   firstName_English lastName_English  studentID  grade_English  \\\n",
            "0               Emma            Smith      10959             95   \n",
            "1             Sophia         Robinson      75175             88   \n",
            "2               Emma           Taylor      42257             87   \n",
            "3              David         Robinson      55148             86   \n",
            "4            Stephen            Curry      30303             90   \n",
            "5           Isabella         Thompson      72824             88   \n",
            "6            Jasmine            Smith      70385             84   \n",
            "7              James            Jones      87707             76   \n",
            "8              Sarah            Swift      61026             80   \n",
            "9               Anne            Clark      90449             82   \n",
            "10              Ryan           Thomas      62137             92   \n",
            "11            Daniel            White      25477             91   \n",
            "12              Sara              Doe      47991             98   \n",
            "13           Matthew            White      25376             80   \n",
            "\n",
            "   firstName_Math lastName_Math  grade_Math  \n",
            "0            Emma         Smith          90  \n",
            "1          Sophia      Robinson          95  \n",
            "2            Emma        Taylor          85  \n",
            "3           David      Robinson          87  \n",
            "4         Stephen         Curry          88  \n",
            "5        Isabella      Thompson          79  \n",
            "6         Jasmine         Smith          80  \n",
            "7           James         Jones          92  \n",
            "8           Sarah         Swift          98  \n",
            "9            Anne         Clark          99  \n",
            "10           Ryan        Thomas          89  \n",
            "11         Daniel         White          87  \n",
            "12           Sara           Doe          86  \n",
            "13        Matthew         White          85  \n"
          ]
        }
      ],
      "source": [
        "# Merging the DataFrames on 'studentID'\n",
        "df_studentGrades = pd.merge(df_english, df_math, on='studentID', suffixes=('_English', '_Math'))\n",
        "print(df_studentGrades)"
      ]
    },
    {
      "cell_type": "code",
      "execution_count": null,
      "id": "a9e571ef-d61b-4594-a181-503dca3fe49b",
      "metadata": {
        "id": "a9e571ef-d61b-4594-a181-503dca3fe49b",
        "colab": {
          "base_uri": "https://localhost:8080/"
        },
        "outputId": "2adbd9aa-cf6b-4754-fce8-53e2e500da19"
      },
      "outputs": [
        {
          "output_type": "stream",
          "name": "stdout",
          "text": [
            "Because it's unique for each students. using first & last name as the key leads to incorrect or ambiguous merging, due to names duplication. \n"
          ]
        }
      ],
      "source": [
        "# Take a look at the data contained in the csv files. Why is studentID chosen as the key?\n",
        "# (1 mark)\n",
        "print(f\"Because it's unique for each students. using first & last name as the key leads to incorrect or ambiguous merging, due to names duplication. \")"
      ]
    },
    {
      "cell_type": "code",
      "execution_count": null,
      "id": "e23aaa90-fb4c-43f9-a3fc-1ae850bf65ab",
      "metadata": {
        "id": "e23aaa90-fb4c-43f9-a3fc-1ae850bf65ab",
        "colab": {
          "base_uri": "https://localhost:8080/"
        },
        "outputId": "5e9862b7-e014-437d-9230-2dbf38e4524f"
      },
      "outputs": [
        {
          "output_type": "stream",
          "name": "stdout",
          "text": [
            "  firstName_English lastName_English  studentID  grade_English firstName_Math  \\\n",
            "0              Emma            Smith      10959             95           Emma   \n",
            "1            Sophia         Robinson      75175             88         Sophia   \n",
            "2              Emma           Taylor      42257             87           Emma   \n",
            "3             David         Robinson      55148             86          David   \n",
            "4           Stephen            Curry      30303             90        Stephen   \n",
            "\n",
            "  lastName_Math  grade_Math   GPA  \n",
            "0         Smith          90  92.5  \n",
            "1      Robinson          95  91.5  \n",
            "2        Taylor          85  86.0  \n",
            "3      Robinson          87  86.5  \n",
            "4         Curry          88  89.0  \n"
          ]
        }
      ],
      "source": [
        "# Let's calculate the average GPA across the two classes for each student\n",
        "df_studentGrades['GPA'] = df_studentGrades[['grade_English', 'grade_Math']].mean(axis=1)\n",
        "\n",
        "# Now let's check the data! In the space below, please use the .head method to display the dataframe.\n",
        "# (1 mark)\n",
        "print(df_studentGrades.head())"
      ]
    },
    {
      "cell_type": "code",
      "execution_count": null,
      "id": "9f28f907-7e7d-4be4-87b8-db03fef69dfa",
      "metadata": {
        "id": "9f28f907-7e7d-4be4-87b8-db03fef69dfa"
      },
      "outputs": [],
      "source": [
        "# Do you notice a problem? The rows for first name and last name have been duplicated!\n",
        "# .drop(columns=['<column_name1>','<column_name2>'] is a Pandas method that can be used to drop columns.\n",
        "# In the space below, drop the first name and last name associated with the math .csv file.\n",
        "# (2 mark)\n",
        "\n",
        "df_studentGrades =df_studentGrades.drop(columns=['firstName_Math', 'lastName_Math'])"
      ]
    },
    {
      "cell_type": "code",
      "execution_count": null,
      "id": "b58186b4-b60e-455a-990e-b24169964f98",
      "metadata": {
        "id": "b58186b4-b60e-455a-990e-b24169964f98",
        "colab": {
          "base_uri": "https://localhost:8080/"
        },
        "outputId": "e9f534d8-0917-4bc2-e1d9-e3cef411b6ca"
      },
      "outputs": [
        {
          "output_type": "stream",
          "name": "stdout",
          "text": [
            "  firstName_English lastName_English  studentID  grade_English  grade_Math  \\\n",
            "0              Emma            Smith      10959             95          90   \n",
            "1            Sophia         Robinson      75175             88          95   \n",
            "2              Emma           Taylor      42257             87          85   \n",
            "3             David         Robinson      55148             86          87   \n",
            "4           Stephen            Curry      30303             90          88   \n",
            "\n",
            "    GPA  \n",
            "0  92.5  \n",
            "1  91.5  \n",
            "2  86.0  \n",
            "3  86.5  \n",
            "4  89.0  \n"
          ]
        }
      ],
      "source": [
        "# Let's display the data again. Use an appropriate method (hint: already used before)\n",
        "# (1 mark)\n",
        "print(df_studentGrades.head())"
      ]
    },
    {
      "cell_type": "code",
      "execution_count": null,
      "id": "f0476460-6156-49ee-bc84-0878207e2dfa",
      "metadata": {
        "id": "f0476460-6156-49ee-bc84-0878207e2dfa",
        "colab": {
          "base_uri": "https://localhost:8080/"
        },
        "outputId": "76ed4796-e1c3-4a3b-d677-723e24fc3d5b"
      },
      "outputs": [
        {
          "output_type": "stream",
          "name": "stdout",
          "text": [
            "  firstName  lastName  studentID  englishGrade  mathGrade   GPA\n",
            "0      Emma     Smith      10959            95         90  92.5\n",
            "1    Sophia  Robinson      75175            88         95  91.5\n",
            "2      Emma    Taylor      42257            87         85  86.0\n",
            "3     David  Robinson      55148            86         87  86.5\n",
            "4   Stephen     Curry      30303            90         88  89.0\n"
          ]
        }
      ],
      "source": [
        "# Let's also rename the first and last names appropriately.\n",
        "# Complete the code in the space below by replacing \"<>\" with the proper column name\n",
        "# (1 mark)\n",
        "\n",
        "df_studentGrades = df_studentGrades.rename(columns={\n",
        "    'firstName_English': 'firstName',\n",
        "    'lastName_English': 'lastName',\n",
        "    'grade_English': 'englishGrade',\n",
        "    'grade_Math': 'mathGrade'\n",
        "    })\n",
        "print(df_studentGrades.head())"
      ]
    },
    {
      "cell_type": "code",
      "execution_count": null,
      "id": "5c2b26e6-3c03-4950-b56d-5d00cf9361c4",
      "metadata": {
        "id": "5c2b26e6-3c03-4950-b56d-5d00cf9361c4",
        "colab": {
          "base_uri": "https://localhost:8080/"
        },
        "outputId": "b4a631bb-f59c-4cea-8702-0fa85c42d8d2"
      },
      "outputs": [
        {
          "output_type": "stream",
          "name": "stdout",
          "text": [
            "          studentID  englishGrade  mathGrade       GPA\n",
            "count     14.000000     14.000000  14.000000  14.00000\n",
            "mean   54086.714286     86.928571  88.571429  87.75000\n",
            "std    24610.266586      6.145221   5.918865   3.63609\n",
            "min    10959.000000     76.000000  79.000000  82.00000\n",
            "25%    33291.500000     82.500000  85.250000  84.50000\n",
            "50%    58087.000000     87.500000  87.500000  89.00000\n",
            "75%    72214.250000     90.750000  91.500000  90.50000\n",
            "max    90449.000000     98.000000  99.000000  92.50000\n"
          ]
        }
      ],
      "source": [
        "# Now let's find out some statistics about our student grades!\n",
        "# Please use an appropriate Pandas method in the space below to display statistical values like\n",
        "# mean, standard deviation, min, max, and others.\n",
        "# (1 mark)\n",
        "print(df_studentGrades.describe())"
      ]
    },
    {
      "cell_type": "code",
      "execution_count": null,
      "id": "22589631-5517-4b64-937e-61a53ade15fa",
      "metadata": {
        "id": "22589631-5517-4b64-937e-61a53ade15fa"
      },
      "outputs": [],
      "source": [
        "# Do you notice a problem?\n",
        "# Some statistics are not relevant. The average of studentIDs have no meaning in reality!\n",
        "# Let's typecast each column appropriately so as to only get meaningful statistics.\n",
        "# In the code below, replace '<>' by choosing between 'str' for string or 'float' for float\n",
        "# to properly typecast each column.\n",
        "# (3 marks)\n",
        "df_studentGrades['studentID'] = df_studentGrades['studentID'].astype(str)\n",
        "df_studentGrades['firstName'] = df_studentGrades['firstName'].astype(str)\n",
        "df_studentGrades['lastName'] = df_studentGrades['lastName'].astype(str)\n",
        "df_studentGrades['englishGrade'] = df_studentGrades['englishGrade'].astype(float)\n",
        "df_studentGrades['mathGrade'] = df_studentGrades['mathGrade'].astype(float)\n",
        "df_studentGrades['GPA'] = df_studentGrades['GPA'].astype(float)"
      ]
    },
    {
      "cell_type": "code",
      "execution_count": null,
      "id": "6ab40afb-2787-45ab-a62b-e832fdee699d",
      "metadata": {
        "id": "6ab40afb-2787-45ab-a62b-e832fdee699d",
        "colab": {
          "base_uri": "https://localhost:8080/"
        },
        "outputId": "6ca8cbcd-3f61-4555-f84a-d6177215d7a5"
      },
      "outputs": [
        {
          "output_type": "stream",
          "name": "stdout",
          "text": [
            "       englishGrade  mathGrade       GPA\n",
            "count     14.000000  14.000000  14.00000\n",
            "mean      86.928571  88.571429  87.75000\n",
            "std        6.145221   5.918865   3.63609\n",
            "min       76.000000  79.000000  82.00000\n",
            "25%       82.500000  85.250000  84.50000\n",
            "50%       87.500000  87.500000  89.00000\n",
            "75%       90.750000  91.500000  90.50000\n",
            "max       98.000000  99.000000  92.50000\n"
          ]
        }
      ],
      "source": [
        "# Now let's see our statistics!\n",
        "print(df_studentGrades.describe())"
      ]
    },
    {
      "cell_type": "code",
      "execution_count": null,
      "id": "8wd6ggXcaszZ",
      "metadata": {
        "id": "8wd6ggXcaszZ",
        "colab": {
          "base_uri": "https://localhost:8080/"
        },
        "outputId": "55483415-ce69-451d-c1bb-f7a965007347"
      },
      "outputs": [
        {
          "output_type": "stream",
          "name": "stdout",
          "text": [
            "   firstName  lastName studentID  englishGrade  mathGrade   GPA\n",
            "0       Emma     Smith     10959          95.0       90.0  92.5\n",
            "12      Sara       Doe     47991          98.0       86.0  92.0\n",
            "1     Sophia  Robinson     75175          88.0       95.0  91.5\n",
            "9       Anne     Clark     90449          82.0       99.0  90.5\n",
            "10      Ryan    Thomas     62137          92.0       89.0  90.5\n",
            "4    Stephen     Curry     30303          90.0       88.0  89.0\n",
            "8      Sarah     Swift     61026          80.0       98.0  89.0\n",
            "11    Daniel     White     25477          91.0       87.0  89.0\n",
            "3      David  Robinson     55148          86.0       87.0  86.5\n",
            "2       Emma    Taylor     42257          87.0       85.0  86.0\n",
            "7      James     Jones     87707          76.0       92.0  84.0\n",
            "5   Isabella  Thompson     72824          88.0       79.0  83.5\n",
            "13   Matthew     White     25376          80.0       85.0  82.5\n",
            "6    Jasmine     Smith     70385          84.0       80.0  82.0\n"
          ]
        }
      ],
      "source": [
        "# Now sort the merged dataframe so that it is in descending order based on GPA, and print it\n",
        "# (1 mark)\n",
        "df_studentsGPASorted =df_studentGrades.sort_values(by='GPA', ascending=False)\n",
        "print(df_studentsGPASorted)"
      ]
    },
    {
      "cell_type": "code",
      "execution_count": null,
      "id": "Y7Kjr1Jqbv_R",
      "metadata": {
        "id": "Y7Kjr1Jqbv_R",
        "colab": {
          "base_uri": "https://localhost:8080/"
        },
        "outputId": "67474bc0-a856-4a2a-d689-c15547411b34"
      },
      "outputs": [
        {
          "output_type": "stream",
          "name": "stdout",
          "text": [
            "using .loc make more sense because it allows us to access rows based on label index.\n"
          ]
        }
      ],
      "source": [
        "# If we wanted to access the student with the highest gpa based on df_studentsGPASorted,\n",
        "# does .iloc or .loc make more sense and why?\n",
        "# (2 marks)\n",
        "print(f\"using .loc make more sense because it allows us to access rows based on label index.\")"
      ]
    },
    {
      "cell_type": "code",
      "execution_count": null,
      "id": "6pQN2HYDeMrm",
      "metadata": {
        "id": "6pQN2HYDeMrm",
        "colab": {
          "base_uri": "https://localhost:8080/"
        },
        "outputId": "f1d222c1-2ed0-4cf8-8a03-4374b8428035"
      },
      "outputs": [
        {
          "output_type": "stream",
          "name": "stdout",
          "text": [
            "firstName        Emma\n",
            "lastName        Smith\n",
            "studentID       10959\n",
            "englishGrade     95.0\n",
            "mathGrade        90.0\n",
            "GPA              92.5\n",
            "Name: 0, dtype: object\n"
          ]
        }
      ],
      "source": [
        "# Now using the method you specified, assign the variable below to the row containing the student with the highest GPA\n",
        "# (1 mark)\n",
        "top_student =df_studentsGPASorted.loc[df_studentsGPASorted.index[0]]\n",
        "print(top_student)"
      ]
    },
    {
      "cell_type": "code",
      "execution_count": null,
      "id": "C-oIXOOwdpx2",
      "metadata": {
        "id": "C-oIXOOwdpx2",
        "colab": {
          "base_uri": "https://localhost:8080/"
        },
        "outputId": "06df1605-6f5e-48dd-ca7a-3d3345fda786"
      },
      "outputs": [
        {
          "output_type": "stream",
          "name": "stdout",
          "text": [
            "The student with highest GPA is Emma Smith with GPA of 92.5\n"
          ]
        }
      ],
      "source": [
        "# Now print the student first name and last name with the highest GPA in this format:\n",
        "# \"The student with the highest GPA is <firstName> <lastName> with a GPA of <GPA>\"\n",
        "# (1 mark)\n",
        "print(f\"The student with highest GPA is {top_student['firstName']} {top_student['lastName']} with GPA of {top_student['GPA']}\")"
      ]
    },
    {
      "cell_type": "code",
      "execution_count": null,
      "id": "4-U4nZbRee4x",
      "metadata": {
        "id": "4-U4nZbRee4x",
        "colab": {
          "base_uri": "https://localhost:8080/"
        },
        "outputId": "a6d56df8-be34-4ca9-ede0-d85f817cf3ed"
      },
      "outputs": [
        {
          "output_type": "stream",
          "name": "stdout",
          "text": [
            "  firstName  lastName studentID  englishGrade  mathGrade   GPA\n",
            "1    Sophia  Robinson     75175          88.0       95.0  91.5\n",
            "9      Anne     Clark     90449          82.0       99.0  90.5\n",
            "8     Sarah     Swift     61026          80.0       98.0  89.0\n",
            "7     James     Jones     87707          76.0       92.0  84.0\n"
          ]
        }
      ],
      "source": [
        "# We can use logical expressions to filter and print data. For example, let's print the students with math grades higher than 90:\n",
        "df_mathGrade_over90 = df_studentsGPASorted[df_studentsGPASorted['mathGrade'] > 90]\n",
        "print(df_mathGrade_over90)"
      ]
    },
    {
      "cell_type": "code",
      "execution_count": null,
      "id": "lTp6vfG2fVQM",
      "metadata": {
        "id": "lTp6vfG2fVQM",
        "colab": {
          "base_uri": "https://localhost:8080/"
        },
        "outputId": "48ccb2cf-d164-4d68-96e7-72bb882ca8a9"
      },
      "outputs": [
        {
          "output_type": "stream",
          "name": "stdout",
          "text": [
            "   firstName  lastName studentID  englishGrade  mathGrade   GPA\n",
            "7      James     Jones     87707          76.0       92.0  84.0\n",
            "5   Isabella  Thompson     72824          88.0       79.0  83.5\n",
            "13   Matthew     White     25376          80.0       85.0  82.5\n",
            "6    Jasmine     Smith     70385          84.0       80.0  82.0\n"
          ]
        }
      ],
      "source": [
        "# Now print the students whos GPA are lower than 85\n",
        "# (2 marks)\n",
        "df_GPA_under85 =df_studentsGPASorted[df_studentsGPASorted['GPA']<85]\n",
        "print(df_GPA_under85)"
      ]
    },
    {
      "cell_type": "markdown",
      "id": "7zMefl3LSqQs",
      "metadata": {
        "id": "7zMefl3LSqQs"
      },
      "source": [
        "## Part 3: More Data Analytics using Pandas\n",
        "### (20 marks)"
      ]
    },
    {
      "cell_type": "code",
      "execution_count": null,
      "id": "F_W0PBCdSxg9",
      "metadata": {
        "id": "F_W0PBCdSxg9",
        "colab": {
          "base_uri": "https://localhost:8080/"
        },
        "outputId": "3585e9ea-0f77-484b-d928-d15131b22e78"
      },
      "outputs": [
        {
          "output_type": "stream",
          "name": "stdout",
          "text": [
            "0     95\n",
            "1     88\n",
            "2     87\n",
            "3     86\n",
            "4     90\n",
            "5     88\n",
            "6     84\n",
            "7     76\n",
            "8     80\n",
            "9     82\n",
            "10    92\n",
            "11    91\n",
            "12    98\n",
            "13    80\n",
            "Name: grade, dtype: int64\n"
          ]
        }
      ],
      "source": [
        "# Select the column 'grade' from the original English grade dataset and print it\n",
        "# (1 mark)\n",
        "grade_column =df1['grade']\n",
        "print(grade_column)"
      ]
    },
    {
      "cell_type": "code",
      "execution_count": null,
      "id": "d_Mo59OuT0IV",
      "metadata": {
        "id": "d_Mo59OuT0IV",
        "colab": {
          "base_uri": "https://localhost:8080/"
        },
        "outputId": "852234b5-f42e-469f-9e24-e31de2cd94da"
      },
      "outputs": [
        {
          "output_type": "stream",
          "name": "stdout",
          "text": [
            "0     92.5\n",
            "1     91.5\n",
            "2     86.0\n",
            "3     86.5\n",
            "4     89.0\n",
            "5     83.5\n",
            "6     82.0\n",
            "7     84.0\n",
            "8     89.0\n",
            "9     90.5\n",
            "10    90.5\n",
            "11    89.0\n",
            "12    92.0\n",
            "13    82.5\n",
            "Name: GPA, dtype: float64\n"
          ]
        }
      ],
      "source": [
        "# Select the column 'GPA' from the df_studentGrades and print it\n",
        "# (1 mark)\n",
        "GPA_column =df_studentGrades['GPA']\n",
        "print(GPA_column)"
      ]
    },
    {
      "cell_type": "code",
      "execution_count": null,
      "id": "EdHYR2hYVbef",
      "metadata": {
        "id": "EdHYR2hYVbef",
        "colab": {
          "base_uri": "https://localhost:8080/"
        },
        "outputId": "f5e7b7aa-b254-4a21-d5f2-19e71df59922"
      },
      "outputs": [
        {
          "output_type": "stream",
          "name": "stdout",
          "text": [
            "The data type of grade from the engish grade dataset is integer.\n",
            "The data type of GPA from the merged dataset is float.\n",
            "yes, because the grades are whole numbers and the GPAs are decimal values\n"
          ]
        }
      ],
      "source": [
        "# What is the data type of grade from the English grade dataset?\n",
        "# (0.5 mark)\n",
        "print(f\"The data type of grade from the engish grade dataset is integer.\")\n",
        "\n",
        "# What is the data type of GPA from the merged dataset?\n",
        "# (0.5 mark)\n",
        "print (f\"The data type of GPA from the merged dataset is float.\")\n",
        "\n",
        "# Is it different? Why?\n",
        "# (1 mark)\n",
        "print(f\"yes, because the grades are whole numbers and the GPAs are decimal values\")"
      ]
    },
    {
      "cell_type": "code",
      "execution_count": null,
      "id": "chmwegDeV6Dr",
      "metadata": {
        "id": "chmwegDeV6Dr",
        "colab": {
          "base_uri": "https://localhost:8080/"
        },
        "outputId": "6b101ea5-73f3-4189-8537-67236a4dc64f"
      },
      "outputs": [
        {
          "output_type": "stream",
          "name": "stdout",
          "text": [
            "  firstName  lastName  studentID  homeRoom\n",
            "0      Emma     Smith      10959       313\n",
            "1    Sophia  Robinson      75175       311\n",
            "2      Emma    Taylor      42257       311\n",
            "3     David  Robinson      55148       313\n",
            "4   Stephen     Curry      30303       313\n"
          ]
        }
      ],
      "source": [
        "# Load the student homeroom CSV file into a DataFrame using the following variable name\n",
        "# (1 mark)\n",
        "df_homeroom =pd.read_csv(\"/content/drive/MyDrive/engg680_2024_fall/Lab_assignment/studentHomerooms.csv\")\n",
        "print(df_homeroom.head())"
      ]
    },
    {
      "cell_type": "code",
      "execution_count": null,
      "id": "7ISGewvrXI7u",
      "metadata": {
        "id": "7ISGewvrXI7u",
        "colab": {
          "base_uri": "https://localhost:8080/"
        },
        "outputId": "1fede592-e49b-43bf-b214-7c7048b1b700"
      },
      "outputs": [
        {
          "output_type": "stream",
          "name": "stdout",
          "text": [
            "  firstName  lastName studentID  englishGrade  mathGrade   GPA  homeRoom\n",
            "0      Emma     Smith     10959          95.0       90.0  92.5       313\n",
            "1    Sophia  Robinson     75175          88.0       95.0  91.5       311\n",
            "2      Emma    Taylor     42257          87.0       85.0  86.0       311\n",
            "3     David  Robinson     55148          86.0       87.0  86.5       313\n",
            "4   Stephen     Curry     30303          90.0       88.0  89.0       313\n"
          ]
        }
      ],
      "source": [
        "# Merge the studentHomerooms with the merged dataset. Make sure that the key you are joining on are the same typecast for both datasets.\n",
        "# Also ensure that there are no redundant columns, and finally display the first few rows.\n",
        "# Hint: try joining on more than one column to avoid having to drop redundant columns, ie. on=['studentID', '<ColumnA>', '<ColumnB>'] ...\n",
        "# (5 marks)\n",
        "df_homeroom['studentID'] =df_homeroom['studentID'].astype(str)\n",
        "df_homeroom['firstName'] =df_homeroom['firstName'].astype(str)\n",
        "df_homeroom['lastName'] =df_homeroom['lastName'].astype(str)\n",
        "df_studentInfo =pd.merge(df_studentGrades, df_homeroom, on=['studentID', 'firstName', 'lastName'])\n",
        "print(df_studentInfo.head())"
      ]
    },
    {
      "cell_type": "code",
      "execution_count": null,
      "id": "aZIl5LCWZ2cL",
      "metadata": {
        "id": "aZIl5LCWZ2cL",
        "colab": {
          "base_uri": "https://localhost:8080/"
        },
        "outputId": "f6db7a85-dc57-4857-ba57-5ef3e9d26b11"
      },
      "outputs": [
        {
          "output_type": "stream",
          "name": "stdout",
          "text": [
            "homeRoom\n",
            "311    88.785714\n",
            "313    86.714286\n",
            "Name: GPA, dtype: float64\n",
            "homeroom 311 has a higher GPA\n"
          ]
        }
      ],
      "source": [
        "# The code below calculates the mean of each homeroom class.\n",
        "df_grouped = df_studentInfo.groupby('homeRoom')['GPA'].mean()\n",
        "print(df_grouped)\n",
        "\n",
        "# Which homeroom has a higher GPA?\n",
        "# (1 mark)\n",
        "print(f\"homeroom 311 has a higher GPA\")"
      ]
    },
    {
      "cell_type": "code",
      "execution_count": null,
      "id": "I1EtLRpVkCJt",
      "metadata": {
        "id": "I1EtLRpVkCJt",
        "colab": {
          "base_uri": "https://localhost:8080/"
        },
        "outputId": "6a93ee82-2073-4327-b177-006bc0c0f4df"
      },
      "outputs": [
        {
          "output_type": "stream",
          "name": "stdout",
          "text": [
            "   firstName  lastName studentID  englishGrade  mathGrade   GPA  homeRoom\n",
            "0       Emma     Smith     10959          95.0       90.0  92.5       313\n",
            "10      Ryan    Thomas     62137          92.0       89.0  90.5       313\n",
            "4    Stephen     Curry     30303          90.0       88.0  89.0       313\n",
            "3      David  Robinson     55148          86.0       87.0  86.5       313\n",
            "7      James     Jones     87707          76.0       92.0  84.0       313\n",
            "13   Matthew     White     25376          80.0       85.0  82.5       313\n",
            "6    Jasmine     Smith     70385          84.0       80.0  82.0       313\n",
            "12      Sara       Doe     47991          98.0       86.0  92.0       311\n",
            "1     Sophia  Robinson     75175          88.0       95.0  91.5       311\n",
            "9       Anne     Clark     90449          82.0       99.0  90.5       311\n",
            "8      Sarah     Swift     61026          80.0       98.0  89.0       311\n",
            "11    Daniel     White     25477          91.0       87.0  89.0       311\n",
            "2       Emma    Taylor     42257          87.0       85.0  86.0       311\n",
            "5   Isabella  Thompson     72824          88.0       79.0  83.5       311\n"
          ]
        }
      ],
      "source": [
        "# Now let's work with multiple sorts. The .sort_values() method can sort by multiple columns, meaning you can specify a primary column and a secondary column for sorting.\n",
        "# For example, by=['ColumnA', 'ColumnB'] will first sort by ColumnA and then by ColumnB.\n",
        "# Create and print a DataFrame, df_studentsGPASorted_homeroom, which is sorted by homeRoom and then by GPA, both in descending order.\n",
        "# (3 mark)\n",
        "df_studentsGPASorted_homeroom =df_studentInfo.sort_values(by=['homeRoom', 'GPA'], ascending= [False, False])\n",
        "print(df_studentsGPASorted_homeroom)"
      ]
    },
    {
      "cell_type": "code",
      "execution_count": null,
      "id": "7XWCjnSCox1a",
      "metadata": {
        "id": "7XWCjnSCox1a",
        "colab": {
          "base_uri": "https://localhost:8080/"
        },
        "outputId": "6bbffbb5-5d9d-4290-e562-0c78075a767b"
      },
      "outputs": [
        {
          "output_type": "stream",
          "name": "stdout",
          "text": [
            "         firstName  lastName studentID  englishGrade  mathGrade   GPA  \\\n",
            "newIndex                                                                \n",
            "313-1         Emma     Smith     10959          95.0       90.0  92.5   \n",
            "313-2         Ryan    Thomas     62137          92.0       89.0  90.5   \n",
            "313-3      Stephen     Curry     30303          90.0       88.0  89.0   \n",
            "313-4        David  Robinson     55148          86.0       87.0  86.5   \n",
            "313-5        James     Jones     87707          76.0       92.0  84.0   \n",
            "313-6      Matthew     White     25376          80.0       85.0  82.5   \n",
            "313-7      Jasmine     Smith     70385          84.0       80.0  82.0   \n",
            "311-1         Sara       Doe     47991          98.0       86.0  92.0   \n",
            "311-2       Sophia  Robinson     75175          88.0       95.0  91.5   \n",
            "311-3         Anne     Clark     90449          82.0       99.0  90.5   \n",
            "311-4        Sarah     Swift     61026          80.0       98.0  89.0   \n",
            "311-5       Daniel     White     25477          91.0       87.0  89.0   \n",
            "311-6         Emma    Taylor     42257          87.0       85.0  86.0   \n",
            "311-7     Isabella  Thompson     72824          88.0       79.0  83.5   \n",
            "\n",
            "          homeRoom  \n",
            "newIndex            \n",
            "313-1          313  \n",
            "313-2          313  \n",
            "313-3          313  \n",
            "313-4          313  \n",
            "313-5          313  \n",
            "313-6          313  \n",
            "313-7          313  \n",
            "311-1          311  \n",
            "311-2          311  \n",
            "311-3          311  \n",
            "311-4          311  \n",
            "311-5          311  \n",
            "311-6          311  \n",
            "311-7          311  \n"
          ]
        }
      ],
      "source": [
        "# Do you notice a problem with the indices? They are basically meaningless now that we have sorted by homeroom and GPA.\n",
        "\n",
        "# The code below changes the index of the dataframe so that it is more intuitive.\n",
        "df_studentsGPASorted_homeroom['studentRank'] = df_studentsGPASorted_homeroom.groupby('homeRoom').cumcount() + 1\n",
        "df_studentsGPASorted_homeroom['newIndex'] = df_studentsGPASorted_homeroom['homeRoom'].astype(str) + '-' + df_studentsGPASorted_homeroom['studentRank'].astype(str)\n",
        "df_studentsGPASorted_homeroom = df_studentsGPASorted_homeroom.set_index('newIndex')\n",
        "df_studentsGPASorted_homeroom = df_studentsGPASorted_homeroom.drop(columns=['studentRank'])\n",
        "\n",
        "print(df_studentsGPASorted_homeroom)"
      ]
    },
    {
      "cell_type": "code",
      "execution_count": null,
      "id": "CUwJVCXfpsdJ",
      "metadata": {
        "id": "CUwJVCXfpsdJ",
        "colab": {
          "base_uri": "https://localhost:8080/"
        },
        "outputId": "7e13085b-6bbb-459a-8ce3-dc1b380bf50d"
      },
      "outputs": [
        {
          "output_type": "stream",
          "name": "stdout",
          "text": [
            "The first coding line creates a rank for each student within their hoomroom.\n",
            "The 2nd coding line creates a new string based index by concatinating the homeroom number with student rank.\n",
            "The 3rd coding line sets the combined string as the new index of the DataFrame.\n",
            "The 4th coding line drops the student rank column as it was only used to create the new index and is no longer needed.\n"
          ]
        }
      ],
      "source": [
        "# Describe what each coding line in the cell above is doing\n",
        "# (4 marks)\n",
        "print(f\"The first coding line creates a rank for each student within their hoomroom.\")\n",
        "print(f\"The 2nd coding line creates a new string based index by concatinating the homeroom number with student rank.\")\n",
        "print(f\"The 3rd coding line sets the combined string as the new index of the DataFrame.\")\n",
        "print(f\"The 4th coding line drops the student rank column as it was only used to create the new index and is no longer needed.\")"
      ]
    },
    {
      "cell_type": "code",
      "execution_count": null,
      "id": "t1iojeTVqLWW",
      "metadata": {
        "id": "t1iojeTVqLWW"
      },
      "outputs": [],
      "source": [
        "# Given df_studentsGPASorted_homeroom, please find and print the students with the highest GPA in each homeroom using the .loc method.\n",
        "# (2 marks)\n",
        "#"
      ]
    },
    {
      "cell_type": "markdown",
      "id": "6360bc9f-ac32-4d0d-986d-f2cb21d422a9",
      "metadata": {
        "id": "6360bc9f-ac32-4d0d-986d-f2cb21d422a9"
      },
      "source": [
        "## Part 4: Using Matplotlib for Data Analytics\n",
        "### (14 marks)"
      ]
    },
    {
      "cell_type": "code",
      "execution_count": null,
      "id": "44538b76-33d8-466e-8cc1-0936c22b541c",
      "metadata": {
        "id": "44538b76-33d8-466e-8cc1-0936c22b541c"
      },
      "outputs": [],
      "source": [
        "# In the space below, please import the matplotlib library\n",
        "# (1 mark)\n"
      ]
    },
    {
      "cell_type": "code",
      "execution_count": null,
      "id": "995a219d-fa27-4948-a51d-88aad7a24731",
      "metadata": {
        "id": "995a219d-fa27-4948-a51d-88aad7a24731"
      },
      "outputs": [],
      "source": [
        "# Let's use matplotlib to display a histogram of the grades distribution\n",
        "# Histograms are useful for seeing the distribution of the students grades\n",
        "\n",
        "plt.figure(figsize=(10, 6))\n",
        "plt.hist(df_studentGrades['englishGrade'], bins=10, alpha=0.7, label='English Grades', color='blue')\n",
        "\n",
        "# Step 1: Use the line above as reference to create a histogram for the math grades\n",
        "# (1 mark)\n",
        "#\n",
        "\n",
        "# Step 2: Ensure that your plot is descriptive, so use labels (x and y axis), a title, and a legend.\n",
        "# Hint: Use the matplotlib .legend(loc='<location>') to add and place the legend.\n",
        "# You can use 'upper left', 'upper right', 'lower left', and 'lower right' to specify the location.\n",
        "# (4 marks)\n",
        "#\n",
        "plt.grid(True)\n",
        "\n",
        "# Step 3: Use the .savefig('<image_title>'.png) to output an image file of the histogram.\n",
        "# Please be sure to use a descriptive title!\n",
        "# (1 mark)\n",
        "#\n",
        "\n",
        "plt.show()"
      ]
    },
    {
      "cell_type": "code",
      "execution_count": null,
      "id": "631d4d69-dd89-4a31-a857-0f4eb1230bbc",
      "metadata": {
        "id": "631d4d69-dd89-4a31-a857-0f4eb1230bbc"
      },
      "outputs": [],
      "source": [
        "# Let's also use matplotlib to display a scatter plot of English vs. Math grades\n",
        "# Scatter plots are useful for seeing the relationship between two variables\n",
        "plt.figure(figsize=(10, 6))\n",
        "\n",
        "# Step 1: Use .scatter(x_data, y_data) to create a scatter plot using the English grades on the x-axis, and Math grades on the y-axis\n",
        "# (2 mark)\n",
        "#\n",
        "\n",
        "# Step 1: Properly label the x and y axes as well as the title of your plot.\n",
        "# (3 marks)\n",
        "#\n",
        "plt.grid(True)\n",
        "\n",
        "# Step 2: Output an image file for the scatter plot with a descriptive file name\n",
        "# (1 mark)\n",
        "#\n",
        "\n",
        "plt.show()"
      ]
    },
    {
      "cell_type": "code",
      "execution_count": null,
      "id": "B69uvG5uioH0",
      "metadata": {
        "id": "B69uvG5uioH0"
      },
      "outputs": [],
      "source": [
        "# From the scatter plot, is there a relationship between the Math and English grades?\n",
        "# (1 mark)\n",
        "#"
      ]
    }
  ],
  "metadata": {
    "colab": {
      "provenance": [],
      "include_colab_link": true
    },
    "kernelspec": {
      "display_name": "Python 3 (ipykernel)",
      "language": "python",
      "name": "python3"
    },
    "language_info": {
      "codemirror_mode": {
        "name": "ipython",
        "version": 3
      },
      "file_extension": ".py",
      "mimetype": "text/x-python",
      "name": "python",
      "nbconvert_exporter": "python",
      "pygments_lexer": "ipython3",
      "version": "3.10.9"
    }
  },
  "nbformat": 4,
  "nbformat_minor": 5
}
